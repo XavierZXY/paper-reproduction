{
 "cells": [
  {
   "cell_type": "code",
   "execution_count": 39,
   "metadata": {},
   "outputs": [],
   "source": [
    "import torch"
   ]
  },
  {
   "cell_type": "code",
   "execution_count": 40,
   "metadata": {},
   "outputs": [
    {
     "data": {
      "text/plain": [
       "tensor([[[[ 1,  2,  3,  4]],\n",
       "\n",
       "         [[ 5,  6,  7,  8]]],\n",
       "\n",
       "\n",
       "        [[[ 9, 10, 11, 12]],\n",
       "\n",
       "         [[13, 14, 15, 16]]]])"
      ]
     },
     "execution_count": 40,
     "metadata": {},
     "output_type": "execute_result"
    }
   ],
   "source": [
    "A = torch.arange(1, 17).view(2, 2, 1, 4)\n",
    "A"
   ]
  },
  {
   "cell_type": "code",
   "execution_count": 41,
   "metadata": {},
   "outputs": [
    {
     "data": {
      "text/plain": [
       "tensor([[[[ 1,  2,  3,  4]],\n",
       "\n",
       "         [[ 5,  6,  7,  8]]],\n",
       "\n",
       "\n",
       "        [[[ 9, 10, 11, 12]],\n",
       "\n",
       "         [[13, 14, 15, 16]]],\n",
       "\n",
       "\n",
       "        [[[17, 18, 19, 20]],\n",
       "\n",
       "         [[21, 22, 23, 24]]]])"
      ]
     },
     "execution_count": 41,
     "metadata": {},
     "output_type": "execute_result"
    }
   ],
   "source": [
    "B = torch.arange(1, 25).view(3, 2, 1, 4)\n",
    "B"
   ]
  },
  {
   "cell_type": "code",
   "execution_count": 44,
   "metadata": {},
   "outputs": [
    {
     "data": {
      "text/plain": [
       "tensor([[[[  30],\n",
       "          [ 174]],\n",
       "\n",
       "         [[ 110],\n",
       "          [ 382]],\n",
       "\n",
       "         [[ 190],\n",
       "          [ 590]]],\n",
       "\n",
       "\n",
       "        [[[ 110],\n",
       "          [ 382]],\n",
       "\n",
       "         [[ 446],\n",
       "          [ 846]],\n",
       "\n",
       "         [[ 782],\n",
       "          [1310]]]])"
      ]
     },
     "execution_count": 44,
     "metadata": {},
     "output_type": "execute_result"
    }
   ],
   "source": [
    "C = torch.einsum('ibhd,jbhd->ijbh', A, B)\n",
    "C"
   ]
  },
  {
   "cell_type": "code",
   "execution_count": 43,
   "metadata": {},
   "outputs": [
    {
     "data": {
      "text/plain": [
       "torch.Size([2, 3, 2, 1, 4])"
      ]
     },
     "execution_count": 43,
     "metadata": {},
     "output_type": "execute_result"
    }
   ],
   "source": [
    "C.shape"
   ]
  }
 ],
 "metadata": {
  "kernelspec": {
   "display_name": "paper-r",
   "language": "python",
   "name": "python3"
  },
  "language_info": {
   "codemirror_mode": {
    "name": "ipython",
    "version": 3
   },
   "file_extension": ".py",
   "mimetype": "text/x-python",
   "name": "python",
   "nbconvert_exporter": "python",
   "pygments_lexer": "ipython3",
   "version": "3.11.9"
  }
 },
 "nbformat": 4,
 "nbformat_minor": 2
}
